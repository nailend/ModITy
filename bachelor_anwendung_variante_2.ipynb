{
 "cells": [
  {
   "cell_type": "markdown",
   "metadata": {},
   "source": [
    "# ModIty -  <font color='red'>Mod</font>el for the  <font color='red'>I</font>dentification of <font color='red'>Ty</font>peregions"
   ]
  },
  {
   "cell_type": "code",
   "execution_count": null,
   "metadata": {},
   "outputs": [],
   "source": [
    "import pandas as pd\n",
    "import numpy as np\n",
    "import modity as mod"
   ]
  },
  {
   "cell_type": "code",
   "execution_count": null,
   "metadata": {},
   "outputs": [],
   "source": [
    "pd.set_option('display.max_columns', 500)\n",
    "pd.set_option('display.max_rows', 500)"
   ]
  },
  {
   "cell_type": "markdown",
   "metadata": {},
   "source": [
    "### Klasse instanziieren"
   ]
  },
  {
   "cell_type": "code",
   "execution_count": null,
   "metadata": {},
   "outputs": [],
   "source": [
    "bachelor = mod.Project(input_folder='Input')"
   ]
  },
  {
   "cell_type": "markdown",
   "metadata": {},
   "source": [
    "### Datensatz auswählen und bearbeiten"
   ]
  },
  {
   "cell_type": "code",
   "execution_count": null,
   "metadata": {},
   "outputs": [],
   "source": [
    "file = pd.read_csv(bachelor.input_path +'/AGS_AIRE.csv', sep=';', decimal=',', thousands='.',index_col=0)\n",
    "file.drop(columns=['GEN','BEZ'], inplace=True)"
   ]
  },
  {
   "cell_type": "markdown",
   "metadata": {},
   "source": [
    "### an Klasse übergeben"
   ]
  },
  {
   "cell_type": "code",
   "execution_count": null,
   "metadata": {},
   "outputs": [],
   "source": [
    "bachelor.import_data_file(file, 'AGS')"
   ]
  },
  {
   "cell_type": "markdown",
   "metadata": {},
   "source": [
    "### Normalverteilung überprüfen"
   ]
  },
  {
   "cell_type": "code",
   "execution_count": null,
   "metadata": {},
   "outputs": [],
   "source": [
    "from scipy.stats import shapiro\n",
    "import matplotlib.pyplot as plt\n",
    "def shapiro_test(data):\n",
    "    shapiro_p_values = []\n",
    "    for i in range(data.shape[1]):\n",
    "        shapiro_p_values.append(shapiro(data[:,i])[1])\n",
    "\n",
    "    plt.bar(range(data.shape[1]),shapiro_p_values)\n",
    "    plt.locator_params(axis='x', nbins=data.shape[1]*2)\n",
    "    plt.grid()\n",
    "    plt.title('Shapiro - Test')\n",
    "    plt.show()\n",
    "\n",
    "    #shapiro_p_values>np.mean(shapiro_p_values)\n",
    "    print('Anzahl der Normalverteilten')\n",
    "    print(sum(np.ravel(shapiro_p_values)>0.5))\n",
    "    return shapiro_p_values"
   ]
  },
  {
   "cell_type": "code",
   "execution_count": null,
   "metadata": {},
   "outputs": [],
   "source": [
    "p_values_shapiro = shapiro_test(bachelor.df_data.values)"
   ]
  },
  {
   "cell_type": "code",
   "execution_count": null,
   "metadata": {
    "scrolled": false
   },
   "outputs": [],
   "source": [
    "bachelor.correlation(method='kendall',heatmap=True, memory_set=0, save=False)"
   ]
  },
  {
   "cell_type": "markdown",
   "metadata": {},
   "source": [
    "### Variante 2"
   ]
  },
  {
   "cell_type": "code",
   "execution_count": null,
   "metadata": {
    "scrolled": true
   },
   "outputs": [],
   "source": [
    "bachelor.select_features(reject=[0,1,3,4,5,6,8,10,13,14,15,16,17], memory_set=0)"
   ]
  },
  {
   "cell_type": "code",
   "execution_count": null,
   "metadata": {
    "scrolled": true
   },
   "outputs": [],
   "source": [
    "bachelor.correlation(method='kendall',heatmap=True,threshold=0.8, memory_set=1, save=False)"
   ]
  },
  {
   "cell_type": "markdown",
   "metadata": {},
   "source": [
    "### Verteilung der Features"
   ]
  },
  {
   "cell_type": "code",
   "execution_count": null,
   "metadata": {
    "scrolled": true
   },
   "outputs": [],
   "source": [
    "bachelor.violinplots(memory_set=1, save=False)"
   ]
  },
  {
   "cell_type": "markdown",
   "metadata": {},
   "source": [
    "### es werden keine Ausreißer identifiziert sondern gleich nach der optimalen Cluster anzahl gesucht"
   ]
  },
  {
   "cell_type": "code",
   "execution_count": null,
   "metadata": {},
   "outputs": [],
   "source": [
    "bachelor.optimal_k(memory_set=1, kmax=20, scaler='standard', plot=True)"
   ]
  },
  {
   "cell_type": "markdown",
   "metadata": {},
   "source": [
    "- stark variierende Empfehlungen\n",
    "- Sil k=8\n",
    "- DB k=19\n",
    "- CH k=18\n",
    "- SSR k=7\n",
    "- Auffällig hoher Wert bei k=2 für Sil "
   ]
  },
  {
   "cell_type": "markdown",
   "metadata": {},
   "source": [
    "### k=2 deutet auf Ausreißer hin, die den Clusterindizes und Kmeans stören"
   ]
  },
  {
   "cell_type": "code",
   "execution_count": null,
   "metadata": {
    "scrolled": true
   },
   "outputs": [],
   "source": [
    "bachelor.loop_clustering(memory_set=1, k_cluster=2, max_loops=30)"
   ]
  },
  {
   "cell_type": "markdown",
   "metadata": {},
   "source": [
    "- sehr robuste Zuteilung"
   ]
  },
  {
   "cell_type": "code",
   "execution_count": null,
   "metadata": {
    "scrolled": true
   },
   "outputs": [],
   "source": [
    "size_var2_m1_k2 = bachelor.cluster_sizes(memory_set=1, k_cluster=2)"
   ]
  },
  {
   "cell_type": "markdown",
   "metadata": {},
   "source": [
    "- kleineres Cluster wird als Ausreißercluster entfernt"
   ]
  },
  {
   "cell_type": "raw",
   "metadata": {},
   "source": [
    "# export to .tex\n",
    "size_var2_m1_k2.to_latex('./graphics/size_var2_m1_k2.tex')"
   ]
  },
  {
   "cell_type": "markdown",
   "metadata": {},
   "source": [
    "### Sample identifizieren"
   ]
  },
  {
   "cell_type": "code",
   "execution_count": null,
   "metadata": {
    "scrolled": true
   },
   "outputs": [],
   "source": [
    "cluster_ident= (0,0)\n",
    "labels_var2_m1 = bachelor.get_labels(memory_set=1, k_cluster=2, loop=cluster_ident[0])\n",
    "single_var2_m1 = labels_var2_m1[~labels_var2_m1.ne(cluster_ident[1])]\n",
    "single_var2_m1 = bachelor.df_transfer.Name[single_var2_m1.index]\n",
    "#single_var2_m1.to_latex('./graphics/outlier_var2_m1.tex')\n",
    "single_var2_m1"
   ]
  },
  {
   "cell_type": "raw",
   "metadata": {},
   "source": [
    "# export to .tex\n",
    "single_var2_m1.to_latex('./graphics/outlier_var2_m1_k2.tex')"
   ]
  },
  {
   "cell_type": "markdown",
   "metadata": {},
   "source": [
    "### samples entfernen"
   ]
  },
  {
   "cell_type": "code",
   "execution_count": null,
   "metadata": {},
   "outputs": [],
   "source": [
    "bachelor.select_samples(memory_set=1, reject=single_var2_m1.index)"
   ]
  },
  {
   "cell_type": "markdown",
   "metadata": {},
   "source": [
    "## erneut optimieren"
   ]
  },
  {
   "cell_type": "code",
   "execution_count": null,
   "metadata": {
    "scrolled": false
   },
   "outputs": [],
   "source": [
    "bachelor.optimal_k(memory_set=2, kmax=20, scaler='standard', plot=True)"
   ]
  },
  {
   "cell_type": "markdown",
   "metadata": {},
   "source": [
    "- eindeutigere Ergebnisse werden erzielt\n",
    "- k=6 hat gute Werte"
   ]
  },
  {
   "cell_type": "code",
   "execution_count": null,
   "metadata": {
    "scrolled": true
   },
   "outputs": [],
   "source": [
    "bachelor.loop_clustering(memory_set=2, k_cluster=6, max_loops=30)"
   ]
  },
  {
   "cell_type": "code",
   "execution_count": null,
   "metadata": {
    "scrolled": true
   },
   "outputs": [],
   "source": [
    "size_var2_m2_k6 = bachelor.cluster_sizes(memory_set=2, k_cluster=6)"
   ]
  },
  {
   "cell_type": "markdown",
   "metadata": {},
   "source": [
    "- kleines cluster mit nur 4 samples kann identifiziert werden"
   ]
  },
  {
   "cell_type": "markdown",
   "metadata": {},
   "source": [
    "### Sample identifizieren"
   ]
  },
  {
   "cell_type": "code",
   "execution_count": null,
   "metadata": {
    "scrolled": true
   },
   "outputs": [],
   "source": [
    "cluster_ident= (0,2)\n",
    "labels_var2_m2_k6 = bachelor.get_labels(memory_set=2, k_cluster=6, loop=cluster_ident[0])\n",
    "single_var2_m2_k6 = labels_var2_m2_k6[~labels_var2_m2_k6.ne(cluster_ident[1])]\n",
    "single_var2_m2_k6 = bachelor.df_transfer.Name[single_var2_m2_k6.index]\n",
    "#single_var2_m2_k6.to_latex('./graphics/outlier_var2_m2_k6_cluster4.tex')\n",
    "single_var2_m2_k6"
   ]
  },
  {
   "cell_type": "markdown",
   "metadata": {},
   "source": [
    "### sampes entfernen"
   ]
  },
  {
   "cell_type": "code",
   "execution_count": null,
   "metadata": {},
   "outputs": [],
   "source": [
    "bachelor.select_samples(memory_set=2, reject=single_var2_m2_k6.index)"
   ]
  },
  {
   "cell_type": "markdown",
   "metadata": {},
   "source": [
    "## neu optimieren"
   ]
  },
  {
   "cell_type": "code",
   "execution_count": null,
   "metadata": {
    "scrolled": true
   },
   "outputs": [],
   "source": [
    "bachelor.optimal_k(memory_set=3, kmax=20, scaler='standard', plot=True)"
   ]
  },
  {
   "cell_type": "markdown",
   "metadata": {},
   "source": [
    "-k = 6 als optimaler Wert"
   ]
  },
  {
   "cell_type": "code",
   "execution_count": null,
   "metadata": {
    "scrolled": true
   },
   "outputs": [],
   "source": [
    "bachelor.loop_clustering(memory_set=3, k_cluster=6, max_loops=30)"
   ]
  },
  {
   "cell_type": "code",
   "execution_count": null,
   "metadata": {
    "scrolled": true
   },
   "outputs": [],
   "source": [
    "size_var2_m3_k6 = bachelor.cluster_sizes(memory_set=3, k_cluster=6)"
   ]
  },
  {
   "cell_type": "raw",
   "metadata": {},
   "source": [
    "# export to .tex\n",
    "size_var2_m3_k6.to_latex('./graphics/size_var2_m3_k6.tex')"
   ]
  },
  {
   "cell_type": "markdown",
   "metadata": {},
   "source": [
    "### springer identifizeren"
   ]
  },
  {
   "cell_type": "code",
   "execution_count": null,
   "metadata": {
    "scrolled": true
   },
   "outputs": [],
   "source": [
    "borderliner_var2_m3_k6 = bachelor.borderliner(memory_set=3, k_cluster=6)"
   ]
  },
  {
   "cell_type": "raw",
   "metadata": {},
   "source": [
    "#export to .tex\n",
    "borderliner_var2_m3_k6.to_latex('./graphics/springer_var2_m3_k6.tex')"
   ]
  },
  {
   "cell_type": "raw",
   "metadata": {},
   "source": [
    "# export to .tex\n",
    "bachelor.df_transfer.Name[borderliner_var2_m3_k6.index].to_latex('./graphics/springer_var2_m3_k6_name.tex')\n",
    "bachelor.df_transfer.Name[borderliner_var2_m3_k6.index]"
   ]
  },
  {
   "cell_type": "markdown",
   "metadata": {},
   "source": [
    "### borderliner entfernen"
   ]
  },
  {
   "cell_type": "code",
   "execution_count": null,
   "metadata": {},
   "outputs": [],
   "source": [
    "bachelor.select_samples(memory_set=3, reject=borderliner_var2_m3_k6.index)"
   ]
  },
  {
   "cell_type": "markdown",
   "metadata": {},
   "source": [
    "## neu optimieren"
   ]
  },
  {
   "cell_type": "code",
   "execution_count": null,
   "metadata": {
    "scrolled": true
   },
   "outputs": [],
   "source": [
    "bachelor.optimal_k(memory_set=4, kmax=20, scaler='standard', plot=True)"
   ]
  },
  {
   "cell_type": "markdown",
   "metadata": {},
   "source": [
    "- k=6\n",
    "- werte verbessern sich leicht"
   ]
  },
  {
   "cell_type": "code",
   "execution_count": null,
   "metadata": {
    "scrolled": true
   },
   "outputs": [],
   "source": [
    "bachelor.loop_clustering(memory_set=4, k_cluster=6, max_loops=30)"
   ]
  },
  {
   "cell_type": "code",
   "execution_count": null,
   "metadata": {
    "scrolled": true
   },
   "outputs": [],
   "source": [
    "size_var2_m4_k6 = bachelor.cluster_sizes(memory_set=4, k_cluster=6)"
   ]
  },
  {
   "cell_type": "markdown",
   "metadata": {},
   "source": [
    "# eindeutiges ergebnis"
   ]
  },
  {
   "cell_type": "raw",
   "metadata": {},
   "source": [
    "# export to .tex\n",
    "size_var2_m4_k6.to_latex('./graphics/size_var2_m4_k6.tex')"
   ]
  },
  {
   "cell_type": "markdown",
   "metadata": {},
   "source": [
    "### mapping der clusterzuweisung an variante 1 anpassen\n",
    "- manuell clusterzuweisung abgleichen\n",
    "- dann speicher manipulieren"
   ]
  },
  {
   "cell_type": "raw",
   "metadata": {},
   "source": [
    "label_alt = bachelor.memory[4]['labels'][6][0]\n",
    "mapping = {0:5, 1:0, 2:3,3:4,4:2,5:1}\n",
    "mapping"
   ]
  },
  {
   "cell_type": "raw",
   "metadata": {},
   "source": [
    "label_neu = label_alt.replace(mapping)\n",
    "bachelor.memory[4]['labels'][6][0] = label_neu"
   ]
  },
  {
   "cell_type": "code",
   "execution_count": null,
   "metadata": {},
   "outputs": [],
   "source": [
    "bachelor.plot_silhouettes(memory_set=4, k_cluster=6, loop=0)"
   ]
  },
  {
   "cell_type": "code",
   "execution_count": null,
   "metadata": {},
   "outputs": [],
   "source": [
    "bachelor.plot_cluster(memory_set=4, k_cluster=6, loop=0, save=False)"
   ]
  },
  {
   "cell_type": "code",
   "execution_count": null,
   "metadata": {},
   "outputs": [],
   "source": [
    "size_var2_m4_k6"
   ]
  },
  {
   "cell_type": "markdown",
   "metadata": {},
   "source": [
    "### typregionen identifizieren"
   ]
  },
  {
   "cell_type": "code",
   "execution_count": null,
   "metadata": {},
   "outputs": [],
   "source": [
    "typregions= bachelor.ident_typregions(memory_set=4, k_cluster=6, loop=0)\n",
    "#typregions.join(size).to_latex('./graphics/typregions_var2.tex')\n",
    "typregions.join(size_var2_m4_k6[0])"
   ]
  },
  {
   "cell_type": "markdown",
   "metadata": {},
   "source": [
    "### typregionen visualisieren"
   ]
  },
  {
   "cell_type": "code",
   "execution_count": null,
   "metadata": {
    "scrolled": true
   },
   "outputs": [],
   "source": [
    "bachelor.plot_typregions(memory_set=4, k_cluster=6, loop=0,save=False)"
   ]
  },
  {
   "cell_type": "markdown",
   "metadata": {},
   "source": [
    "# Medianwerte der Cluster berechnen"
   ]
  },
  {
   "cell_type": "code",
   "execution_count": null,
   "metadata": {},
   "outputs": [],
   "source": [
    "clustering = bachelor.get_clustering(memory_set=4, k_cluster=6, loop=0)\n",
    "clustering.Cluster = clustering.Cluster.astype(int)\n",
    "clustering\n",
    "output = clustering.groupby('Cluster').median().join(size_var2_m4_k6[0].rename('Clustergröße'))\n",
    "#output.iloc[:,[6,0,1,2,3,4,5]].T.to_latex('./graphics/median_var2.tex')\n",
    "#output.T.to_latex('./graphics/median.tex')\n",
    "output.iloc[:,[6,0,1,2,3,4,5]].T"
   ]
  },
  {
   "cell_type": "markdown",
   "metadata": {},
   "source": [
    "# zusätzliche Plots"
   ]
  },
  {
   "cell_type": "code",
   "execution_count": null,
   "metadata": {},
   "outputs": [],
   "source": [
    "import matplotlib.cm as cm\n",
    "cmap = cm.get_cmap(\"Spectral_r\")\n",
    "cmd = bachelor.cmap_discretize(cmap, N=7)\n",
    "cm.register_cmap(\"var1_r\", cmd)"
   ]
  },
  {
   "cell_type": "code",
   "execution_count": null,
   "metadata": {},
   "outputs": [],
   "source": [
    "df_clustering = bachelor.get_clustering(memory_set=4, k_cluster=6, loop=0)\n",
    "df_clustering.iloc[:,:-2] = bachelor.normalization(df_clustering.iloc[:,:-2], scaler='minmax')\n",
    "df_clustering.Cluster = df_clustering.Cluster.astype(int)"
   ]
  },
  {
   "cell_type": "code",
   "execution_count": null,
   "metadata": {
    "scrolled": true
   },
   "outputs": [],
   "source": [
    "import seaborn as sns\n",
    "import matplotlib.pyplot as plt\n",
    "# boxplots\n",
    "fig, ax = plt.subplots(nrows=2, ncols=3, figsize=(25,20))\n",
    "for n, feature in enumerate(df_clustering.columns[:-2]):\n",
    "    plt.subplot(2,3, n+1 )\n",
    "    #sns.violinplot(x ='Cluster',y=feature, data= df_clustering)\n",
    "    sns.swarmplot(x ='Cluster',y=feature, data= df_clustering, color=\"black\", edgecolor=\"gray\")\n",
    "    sns.boxplot(x ='Cluster',y=feature, palette='var1_r', data= df_clustering)\n",
    "    plt.xlabel('Cluster', fontsize=12)\n",
    "    plt.ylabel(feature, fontsize=12)\n",
    "    plt.title(feature, fontsize=15)\n",
    "plt.show()\n",
    "#fig.savefig('./graphics/boxplots_feature_var2.pdf',bbox_inches='tight')"
   ]
  },
  {
   "cell_type": "markdown",
   "metadata": {},
   "source": [
    "# vergleich der Clusteranzahlen"
   ]
  },
  {
   "cell_type": "code",
   "execution_count": null,
   "metadata": {},
   "outputs": [],
   "source": [
    "bachelor.plot_k_scores(memory_set=[2,3,4], save=False)"
   ]
  },
  {
   "cell_type": "markdown",
   "metadata": {},
   "source": [
    "# Ende"
   ]
  }
 ],
 "metadata": {
  "kernelspec": {
   "display_name": "mein_cluster",
   "language": "python",
   "name": "mein_cluster"
  },
  "language_info": {
   "codemirror_mode": {
    "name": "ipython",
    "version": 3
   },
   "file_extension": ".py",
   "mimetype": "text/x-python",
   "name": "python",
   "nbconvert_exporter": "python",
   "pygments_lexer": "ipython3",
   "version": "3.7.4"
  },
  "toc": {
   "base_numbering": 1,
   "nav_menu": {},
   "number_sections": true,
   "sideBar": true,
   "skip_h1_title": false,
   "title_cell": "Table of Contents",
   "title_sidebar": "Contents",
   "toc_cell": false,
   "toc_position": {},
   "toc_section_display": true,
   "toc_window_display": false
  }
 },
 "nbformat": 4,
 "nbformat_minor": 2
}
